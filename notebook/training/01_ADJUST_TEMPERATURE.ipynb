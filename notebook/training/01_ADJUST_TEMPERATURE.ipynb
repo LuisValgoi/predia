{
 "cells": [
  {
   "cell_type": "code",
   "execution_count": 23,
   "metadata": {},
   "outputs": [],
   "source": [
    "import pandas as pd\n",
    "import numpy as np\n",
    "\n",
    "# import data\n",
    "raw_data = pd.read_csv('./datasets/temperatura.csv', delimiter=\";\", quoting = 3)\n",
    "\n",
    "# adjust columns\n",
    "data = raw_data.drop(columns=['Hora', '\"Estacao', '\"', 'Temp Comp Media'])\n",
    "df = pd.DataFrame(data)\n",
    "df['Data'] = pd.to_datetime(df['Data'], format='%d/%m/%Y')\n",
    "df.rename(columns={'Data': 'DATA', 'Precipitacao': 'PRECIPITACAO', 'TempMaxima': 'TEMPERATURA', 'Umidade Relativa Media': 'UMIDADE'}, inplace=True)\n",
    "\n",
    "# group by data\n",
    "df = df.groupby('DATA').max().sort_values(by=['DATA'])\n",
    "\n",
    "# export\n",
    "df.to_csv('./datasets/temperatura_featured.csv')"
   ]
  }
 ],
 "metadata": {
  "kernelspec": {
   "display_name": "Python 3",
   "language": "python",
   "name": "python3"
  },
  "language_info": {
   "codemirror_mode": {
    "name": "ipython",
    "version": 3
   },
   "file_extension": ".py",
   "mimetype": "text/x-python",
   "name": "python",
   "nbconvert_exporter": "python",
   "pygments_lexer": "ipython3",
   "version": "3.7.6"
  }
 },
 "nbformat": 4,
 "nbformat_minor": 4
}
