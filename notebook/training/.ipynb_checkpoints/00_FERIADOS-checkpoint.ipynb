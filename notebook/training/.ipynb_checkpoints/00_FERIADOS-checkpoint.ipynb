{
 "cells": [
  {
   "cell_type": "code",
   "execution_count": null,
   "metadata": {},
   "outputs": [],
   "source": [
    "# todos os feriados são ruins\n",
    "# vespera de natal é bom - cidade movimentadas\n",
    "# vespera dia das maes é bom - cidade movimentada\n",
    "# vespera dia dos pais é bom - cidade movimentada\n",
    "# vespera ano novo é bom - cidade movimentadas\n",
    "# todos domingos é muito bom\n",
    "# sabado é 30% melhor\n",
    "# janeiro e fevereiro é fraco\n",
    "# novembro e dezembro"
   ]
  },
  {
   "cell_type": "code",
   "execution_count": null,
   "metadata": {},
   "outputs": [],
   "source": [
    "# todos\n",
    "\n",
    "# 30/03/18\tsexta-feira\t      Paixão de Cristo\n",
    "# 21/04/18\tsábado            Tiradentes ==== trabalharam\n",
    "# 30/04/18\tsegunda-feira     Dia do Trabalho (feriadão) ==== trabalharam\n",
    "# 01/05/18\tterça-feira\t      Dia do Trabalho ==== trabalharam\n",
    "# 31/05/18\tquinta-feira      Corpus Christi ==== trabalharam\n",
    "# 01/06/18\tsexta-feira\t      Corpus Christi (feriadao) ==== trabalharam\n",
    "# 07/09/18\tsexta-feira       Independência do Brasil ==== trabalharam\n",
    "# 12/10/18\tsexta-feira\t      Nossa Sr.a Aparecida ==== trabalharam\n",
    "# 02/11/18\tsexta-feira\t      Finados ==== trabalharam\n",
    "# 15/11/18\tquinta-feira      Proclamação da República ==== trabalharam\n",
    "# 16/11/18\tsexta-feira\t      Proclamação da República (feriadao) ==== trabalharam\n",
    "# 24/12/18\tsegunda-feira     Natal (feriadao) ==== trabalharam\n",
    "# 25/12/18\tterça-feira\t      Natal\n",
    "# 29/12/18\tsabado            Ano novo (feriadao)\n",
    "# 30/12/18\tdomingo           Ano novo (feriadao)\n",
    "# 31/12/18\tsegunda-feira     Ano novo\n",
    "\n",
    "# 01/01/19\tterça-feira\t      Confraternização Universal\n",
    "# 03/03/19\tdomingo           Carnaval (feriadao)\n",
    "# 04/03/19\tsegunda-feira     Carnaval (feriadao)\n",
    "# 05/03/19\tterça-feira\t      Carnaval\n",
    "# 19/04/19\tsexta-feira\t      Paixão de Cristo === trabalharam \n",
    "# 21/04/19\tdomingo           Tiradentes === trabalharam \n",
    "# 01/05/19\tquarta-feira      Dia do Trabalho === trabalharam\n",
    "# 20/06/19\tquinta-feira      Corpus Christi === trabalharam\n",
    "# 21/06/19\tsexta-feira       Corpus Christi (feriadao) === trabalharam\n",
    "# 07/09/19\tsábado            Independência do Brasil === trabalharam\n",
    "# 12/10/19\tsábado            Nossa Sr.a Aparecida === trabalharam\n",
    "# 02/11/19\tsábado            Finados === trabalharam\n",
    "# 15/11/19\tsexta-feira\t      Proclamação da República === trabalharam\n",
    "# 25/12/19\tquarta-feira      Natal\n",
    "# 26/12/19\tquinta-feira      Natal (feriadao) === trabalharam\n",
    "# 27/12/19\tsexta-feira       Natal (feriadao) === trabalharam\n",
    "# 29/12/19\tdomingo           Confraternização Universal (feriadao)\n",
    "# 30/12/19\tsegunda-feira     Confraternização Universal (feriadao)\n",
    "# 31/12/19\tterca-feira       Confraternização Universal (feriadao)\n",
    "\n",
    "# 01/01/20\tquarta-feira      Confraternização Universal\n",
    "# 24/02/20\tsegunda-feira     Carnaval\n",
    "# 25/02/20\tterça-feira       Carnaval\n",
    "\n",
    "# todos\n",
    "['2018-03-30', '2018-04-21', '2018-04-30', '2018-05-01', '2018-05-31', '2018-06-01', '2018-09-07', '2018-10-12', '2018-11-02', '2018-11-15', '2018-11-16', '2018-12-24', '2018-12-25', '2018-12-29', '2018-12-30', '2018-12-31', \n",
    "'2019-01-01', '2019-03-04', '2019-03-05', '2019-04-19', '2019-04-21', '2019-05-01', '2019-06-20', '2019-06-21', '2019-09-07', '2019-10-12', '2019-11-02', '2019-11-15', '2019-12-25', '2019-12-25', '2019-12-25', '2019-12-30', '2019-12-31', \n",
    "'2020-01-01', '2020-02-24', '2020-02-25']"
   ]
  },
  {
   "cell_type": "code",
   "execution_count": null,
   "metadata": {},
   "outputs": [],
   "source": [
    "# closed\n",
    "# 2018\n",
    "['2018-03-30', '2018-12-25', '2018-12-29', '2018-12-30', '2018-12-31']\n",
    "\n",
    "# 2019\n",
    "['2019-01-01', '2019-03-03', '2019-03-04', '2019-03-05', '2019-12-25', '2019-12-29', '2019-12-30', '2019-12-31']\n",
    "\n",
    "# 2020\n",
    "['2020-01-01', '2020-02-24', '2020-02-25']\n",
    "\n",
    "# all\n",
    "['2018-03-30', '2018-12-25', '2018-12-29', '2018-12-30', '2018-12-31', '2019-01-01', '2019-03-03', '2019-03-04', '2019-03-05', '2019-12-25', '2019-12-29', '2019-12-30', '2019-12-31', '2020-01-01', '2020-02-24', '2020-02-25']"
   ]
  }
 ],
 "metadata": {
  "kernelspec": {
   "display_name": "Python 3",
   "language": "python",
   "name": "python3"
  },
  "language_info": {
   "codemirror_mode": {
    "name": "ipython",
    "version": 3
   },
   "file_extension": ".py",
   "mimetype": "text/x-python",
   "name": "python",
   "nbconvert_exporter": "python",
   "pygments_lexer": "ipython3",
   "version": "3.7.6"
  }
 },
 "nbformat": 4,
 "nbformat_minor": 4
}
